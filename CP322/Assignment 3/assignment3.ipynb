{
 "cells": [
  {
   "cell_type": "markdown",
   "metadata": {},
   "source": [
    "## 1 Concept Qustions"
   ]
  },
  {
   "cell_type": "markdown",
   "metadata": {},
   "source": [
    "### 1.1 Neural Nets"
   ]
  },
  {
   "cell_type": "markdown",
   "metadata": {},
   "source": [
    "##### 1.1.1 What is the output $P (y = 1|x, w)$ from the above neural net? Express it in terms of $x_i$, $c$ and weights $w_i$"
   ]
  },
  {
   "cell_type": "markdown",
   "metadata": {},
   "source": [
    "\n",
    "$$g(z) = \\frac{1}{1+e^{-z}}~~~and~~~h(z)=cz$$\n",
    "$$\n",
    "P(y=1|x,w) = g(w_7 + w_8h(w_1+w_3x_1+w_5x_2)+w_9h(w_2+w_4x_1+w_6x_2)) \\\\\n",
    "= \\frac{1}{1+e^{-(w_7 + w_8h(w_1+w_3x_1+w_5x_2)+w_9h(w_2+w_4x_1+w_6x_2))}} \\\\\n",
    "= \\frac{1}{1+e^{-(w_7 + w_8(cw_1 + cw_3x_1 + cw_5x_2)+w_9(cw_2 + cw_4x_1 + cw_6x_2))}} \\\\\n",
    "= \\frac{1}{1+e^{-(w_7 + cw_1w_8 + cw_3w_8x_1 + cw_5w_8x_2 + cw_2w_9 + cw_4w_9x_1 + cw_6w_9x_2)}} \\\\\n",
    "= \\frac{1}{1+e^{-(w_7 + cw_1w_8 + cw_2w_9 + x_1(cw_3w_8 + cw_4w_9) + x_2(cw_5w_8 + cw_6w_9))}}\n",
    "$$\n"
   ]
  },
  {
   "cell_type": "markdown",
   "metadata": {},
   "source": [
    "##### 1.1.2 Is it true that any multi-layered neural net with linear activation functions at hidden layers can be represented as a neural net without any hidden layer? Briefly explain your answer"
   ]
  },
  {
   "cell_type": "markdown",
   "metadata": {},
   "source": [
    "$$\n",
    "\\boxed{\n",
    "  \\begin{aligned}\n",
    "    \\text{Yes it is true since any network that uses a linear activation function in any hidden layers can simply be chalked up to additional inputs to the final output layer.}\\\\\n",
    "    \\text{This is the same for the example above, now that we have the output it can easily be rewritten to have no hidden layers as seen below.}\n",
    "  \\end{aligned}\n",
    "}\n",
    "$$"
   ]
  },
  {
   "cell_type": "markdown",
   "metadata": {},
   "source": [
    "![](./assets/diagram.png)"
   ]
  },
  {
   "cell_type": "markdown",
   "metadata": {},
   "source": [
    "### 1.2 Support Vector Machines"
   ]
  },
  {
   "cell_type": "markdown",
   "metadata": {},
   "source": [
    "##### 1.2.1 How large can $h ≥ 0$ be so the training examples are still linearly separable"
   ]
  },
  {
   "cell_type": "markdown",
   "metadata": {},
   "source": [
    "$$\\boxed{h \\le 1}$$"
   ]
  },
  {
   "cell_type": "markdown",
   "metadata": {},
   "source": [
    "##### 1.2.2 Will the direction of the maximum margin decision boundary change as a function of h when the samples are separable? Explain your answer with one sentence "
   ]
  },
  {
   "cell_type": "markdown",
   "metadata": {},
   "source": [
    "$$\\boxed{\\text{No, because }x_1, x_2, x_3 \\text{ remain as the support vectors}}$$\n"
   ]
  },
  {
   "cell_type": "markdown",
   "metadata": {},
   "source": [
    "##### 1.2.3 What will be the margin obtained by the maximum margin boundary as a function of h? Note that the margin as a function of $h$ is actually a linear function "
   ]
  },
  {
   "cell_type": "markdown",
   "metadata": {},
   "source": [
    "$$\n",
    "\\boxed{ \n",
    "  \\frac{1-h}{\\sqrt{2}}~|~0 \\le h \\le 1, \\text{otherwise }0\n",
    "}\n",
    "$$\n"
   ]
  },
  {
   "cell_type": "markdown",
   "metadata": {},
   "source": [
    "## 2 Programming Questions"
   ]
  },
  {
   "cell_type": "markdown",
   "metadata": {},
   "source": [
    "### 2.1 Image Pre-Processing"
   ]
  },
  {
   "cell_type": "code",
   "execution_count": 2,
   "metadata": {},
   "outputs": [],
   "source": [
    "from tensorflow.keras.preprocessing.image import ImageDataGenerator\n",
    "datagen=ImageDataGenerator(\n",
    "    zoom_range=0.2, # Zooming rate of the image\n",
    "    horizontal_flip=True, # Make a horizontal copy\n",
    "    rescale=1.0/255.0, # Normalize the new images\n",
    "    width_shift_range=0.10, # Percentage of width shifting\n",
    "    height_shift_range=0.10, # Percentage of height shifting)\n",
    ")"
   ]
  },
  {
   "cell_type": "markdown",
   "metadata": {},
   "source": [
    "### 2.2 Model Building"
   ]
  },
  {
   "cell_type": "code",
   "execution_count": null,
   "metadata": {},
   "outputs": [],
   "source": []
  },
  {
   "cell_type": "markdown",
   "metadata": {},
   "source": [
    "### 2.3 Model Evaluation"
   ]
  },
  {
   "cell_type": "code",
   "execution_count": null,
   "metadata": {},
   "outputs": [],
   "source": []
  }
 ],
 "metadata": {
  "interpreter": {
   "hash": "bacf26b833236dd16c1d0631dea430f371c6d715a07dbe00e5a37dc0b31d3ebe"
  },
  "kernelspec": {
   "display_name": "Python 3.10.0 64-bit",
   "language": "python",
   "name": "python3"
  },
  "language_info": {
   "codemirror_mode": {
    "name": "ipython",
    "version": 3
   },
   "file_extension": ".py",
   "mimetype": "text/x-python",
   "name": "python",
   "nbconvert_exporter": "python",
   "pygments_lexer": "ipython3",
   "version": "3.10.0"
  },
  "orig_nbformat": 4
 },
 "nbformat": 4,
 "nbformat_minor": 2
}
