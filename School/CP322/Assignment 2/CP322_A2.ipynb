{
 "cells": [
  {
   "cell_type": "markdown",
   "id": "9d488c92-eff0-4446-bee2-2c2219751681",
   "metadata": {},
   "source": [
    "# CP322 ASSIGNMENT 2\n",
    "## Riley Huston | ID: 190954880\n",
    "---"
   ]
  },
  {
   "cell_type": "markdown",
   "id": "a1dcc016-a559-475d-af57-cd16f73e5680",
   "metadata": {},
   "source": [
    "## Section 1 | Concept Question"
   ]
  },
  {
   "cell_type": "markdown",
   "id": "eddb271f-3cb1-4508-9b33-3af6f0c0ae2c",
   "metadata": {},
   "source": [
    "#### Section 1.1 | Expression for the joint likelihood of the network in its factored form"
   ]
  },
  {
   "cell_type": "markdown",
   "id": "070b6bc6-6b7f-4ff6-9817-da1366dab33e",
   "metadata": {},
   "source": [
    "$$P(a, b, c, d, e, f, g) = P(a)*P(b|a)*P(c|b) * P(g)*P(f|g) * P(d|c,f) * P(e|d)$$"
   ]
  },
  {
   "cell_type": "markdown",
   "id": "7a2501f5-a507-46af-93f4-623ea5452621",
   "metadata": {},
   "source": [
    "#### Section 1.2 | Naive Bayesian Networks"
   ]
  },
  {
   "cell_type": "markdown",
   "id": "06ddbc92-f97e-40af-81c4-6f0dd168ff1e",
   "metadata": {},
   "source": [
    "$$P(K = 1|a = 1, b = 1, c = 0) = \\frac{0}{1} = 0$$"
   ]
  },
  {
   "cell_type": "markdown",
   "id": "e5832fb4-e3f7-47b0-b0b9-71eefc55cece",
   "metadata": {},
   "source": [
    "$$P (K = 0|a = 1, b = 1) = \\frac{1}{2} = 0.5$$"
   ]
  },
  {
   "cell_type": "markdown",
   "id": "8125a4f9-eccb-482b-98d4-b1d7b7a8a71c",
   "metadata": {},
   "source": [
    "## Section 2 | Programming Question: Product Classification"
   ]
  },
  {
   "cell_type": "markdown",
   "id": "2da44fec-ec26-4928-b856-3494513b2aed",
   "metadata": {},
   "source": [
    "#### Section 2.1 | Data Loading and Preprocessing"
   ]
  },
  {
   "cell_type": "code",
   "execution_count": 1,
   "id": "a2e53325-527e-4dce-90cb-2d32c91d8cd1",
   "metadata": {},
   "outputs": [],
   "source": [
    "# Imports\n",
    "import pandas as pd\n",
    "from sklearn.model_selection import train_test_split"
   ]
  },
  {
   "cell_type": "code",
   "execution_count": 2,
   "id": "9851bdfe-4b34-49d3-b8db-a0c094959961",
   "metadata": {},
   "outputs": [
    {
     "name": "stdout",
     "output_type": "stream",
     "text": [
      "Number of Instances: 61878\n",
      "Number of Classes: 9\n"
     ]
    }
   ],
   "source": [
    "df = pd.read_csv(r\"otto.csv\")\n",
    "\n",
    "instances = df.shape[0]\n",
    "classes = df['target'].nunique()\n",
    "\n",
    "print('Number of Instances:', instances)\n",
    "print('Number of Classes:', classes)"
   ]
  },
  {
   "cell_type": "code",
   "execution_count": 3,
   "id": "d1915d0d-d4b9-44a8-8457-0cbaefdc0bb7",
   "metadata": {},
   "outputs": [],
   "source": [
    "# Remove all rows with non numeric values\n",
    "df = df.dropna()\n",
    "\n",
    "# Make sure all row ids are numeric\n",
    "def is_num(x):\n",
    "    return str(x).isdigit()\n",
    "df = df[df.id.apply(is_num)]\n",
    "\n",
    "# Find rows with only zeros\n",
    "row_sums = df.iloc[0:, 1:-1].sum(numeric_only = True, axis=1)\n",
    "\n",
    "# Create new Dataframe without zero rows named ppdf (preprocessed dataframe)\n",
    "ppdf = df[row_sums > 0]"
   ]
  },
  {
   "cell_type": "code",
   "execution_count": 4,
   "id": "6b6700bc-f248-4f06-b86d-7387cc35af8e",
   "metadata": {},
   "outputs": [],
   "source": [
    "# Split the data into features and target\n",
    "features = ppdf.drop(['target','id'], axis=1).columns\n",
    "\n",
    "# Split the data into training and test sets\n",
    "X_Training, X_Testing, y_Training, y_Testing = train_test_split(ppdf[features], ppdf['target'], test_size=0.2)"
   ]
  },
  {
   "cell_type": "markdown",
   "id": "955dbe10-303b-41f5-8e17-d4f87bf92830",
   "metadata": {},
   "source": [
    "#### Section 2.2 | Algorithm Implementation"
   ]
  },
  {
   "cell_type": "code",
   "execution_count": 5,
   "id": "61935913-30be-43b2-89de-10e052666f69",
   "metadata": {},
   "outputs": [],
   "source": [
    "from sklearn.neighbors import KNeighborsClassifier\n",
    "from sklearn.ensemble import RandomForestClassifier\n",
    "from sklearn.naive_bayes import GaussianNB"
   ]
  },
  {
   "cell_type": "code",
   "execution_count": 6,
   "id": "bf725508-6b2f-420d-ba65-ef6278796ebc",
   "metadata": {},
   "outputs": [],
   "source": [
    "KNN = KNeighborsClassifier()\n",
    "KNN = KNN.fit(X_Training, y_Training)\n",
    "\n",
    "RF = RandomForestClassifier(n_estimators = 15, criterion = \"entropy\", bootstrap = True, max_samples = 1000)\n",
    "RF = RF.fit(X_Training, y_Training)\n",
    "\n",
    "Naive_Bayes = GaussianNB()\n",
    "Naive_Bayes = Naive_Bayes.fit(X_Training, y_Training)\n"
   ]
  },
  {
   "cell_type": "markdown",
   "id": "96eb2769-8905-4411-b36c-eb6ba7bebddc",
   "metadata": {},
   "source": [
    "#### Section 2.3 | Performance Comparison"
   ]
  },
  {
   "cell_type": "code",
   "execution_count": 7,
   "id": "860f53c2-2383-4dd7-9e90-b6b58874bf45",
   "metadata": {},
   "outputs": [],
   "source": [
    "from sklearn import preprocessing \n",
    "import seaborn as sn"
   ]
  },
  {
   "cell_type": "code",
   "execution_count": 8,
   "id": "20f2b957-ea42-49e8-b705-c33e68cfdc00",
   "metadata": {},
   "outputs": [
    {
     "name": "stdout",
     "output_type": "stream",
     "text": [
      "K-Nearest Neighbour:  0.7776341305753071\n",
      "      Random Forest:  0.6885100193923723\n",
      "        Naive Bayes:  0.6217679379444085\n"
     ]
    },
    {
     "data": {
      "text/plain": [
       "<AxesSubplot:>"
      ]
     },
     "execution_count": 8,
     "metadata": {},
     "output_type": "execute_result"
    },
    {
     "data": {
      "image/png": "[encoded data removed]",
      "text/plain": [
       "<Figure size 432x288 with 2 Axes>"
      ]
     },
     "metadata": {
      "needs_background": "light"
     },
     "output_type": "display_data"
    }
   ],
   "source": [
    "KNN_pred = KNN.predict(X_Testing)\n",
    "KNN_score = KNN.score(X_Testing, y_Testing)\n",
    "\n",
    "RF_pred = RF.predict(X_Testing)\n",
    "RF_score = RF.score(X_Testing, y_Testing)\n",
    "\n",
    "Naive_pred = Naive_Bayes.predict(X_Testing)\n",
    "Naive_score = Naive_Bayes.score(X_Testing, y_Testing)\n",
    "\n",
    "print(\"K-Nearest Neighbour: \", KNN_score)\n",
    "print(\"      Random Forest: \", RF_score)\n",
    "print(\"        Naive Bayes: \", Naive_score)\n",
    "\n",
    "df = pd.DataFrame({'KNN': KNN_pred, 'RF': RF_pred, 'Naive Bayes': Naive_pred})\n",
    "\n",
    "label = preprocessing.LabelEncoder()\n",
    "\n",
    "df['KNN']= label.fit_transform(df['KNN']) \n",
    "df['RF']= label.fit_transform(df['RF']) \n",
    "df['Naive Bayes']= label.fit_transform(df['Naive Bayes']) \n",
    "\n",
    "corrMatrix = df.corr()\n",
    "sn.heatmap(corrMatrix, annot=True)"
   ]
  },
  {
   "cell_type": "markdown",
   "id": "42644389-565d-4884-b09e-f81dd3733481",
   "metadata": {},
   "source": [
    "## Conclusion"
   ]
  },
  {
   "cell_type": "markdown",
   "id": "291f2bd7-79af-463c-adaf-02ba80526f75",
   "metadata": {},
   "source": [
    "Recall that the F-score is the average between both the precision and recall metrics of a classifier, thus giving us the theoretical best rating for each classifier. After testing the code multiple times, the F-scores of the three classifiers seem to be as follows: K-nearest nieghbour = ~80%, Random Forest = ~70%, Naive Bayes = ~60%. This indicates that the K-nearest neighbour classifier is the overall best model for the given scenario. "
   ]
  }
 ],
 "metadata": {
  "kernelspec": {
   "display_name": "Python 3 (ipykernel)",
   "language": "python",
   "name": "python3"
  },
  "language_info": {
   "codemirror_mode": {
    "name": "ipython",
    "version": 3
   },
   "file_extension": ".py",
   "mimetype": "text/x-python",
   "name": "python",
   "nbconvert_exporter": "python",
   "pygments_lexer": "ipython3",
   "version": "3.10.0"
  }
 },
 "nbformat": 4,
 "nbformat_minor": 5
}
